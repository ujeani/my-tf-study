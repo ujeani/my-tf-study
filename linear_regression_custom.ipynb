{
 "cells": [
  {
   "cell_type": "code",
   "execution_count": 1,
   "metadata": {},
   "outputs": [],
   "source": [
    "import tensorflow as tf\n",
    "import numpy as np"
   ]
  },
  {
   "cell_type": "markdown",
   "metadata": {},
   "source": [
    "Declare list of features, we only have one real-valued feature"
   ]
  },
  {
   "cell_type": "code",
   "execution_count": 2,
   "metadata": {},
   "outputs": [],
   "source": [
    "def model_fn(features, labels, mode):\n",
    "    #Build a linear model and predict values\n",
    "    W = tf.get_variable(\"W\", [1], dtype=tf.float64)\n",
    "    b = tf.get_variable(\"b\", [1], dtype=tf.float64)\n",
    "    y = W * features['x'] + b\n",
    "    # Loss sub-graph\n",
    "    loss = tf.reduce_sum(tf.square(y-labels))\n",
    "    # Training sub-graph\n",
    "    global_step = tf.train.get_global_step()\n",
    "    optimizer = tf.train.GradientDescentOptimizer(0.01)\n",
    "    train = tf.group(optimizer.minimize(loss),\n",
    "                    tf.assign_add(global_step, 1))\n",
    "    # EstimatorSpec connects subgraphs we built to the\n",
    "    # appropriate functionality.\n",
    "    return tf.estimator.EstimatorSpec(mode=mode,predictions=y,loss = loss,train_op = train)"
   ]
  },
  {
   "cell_type": "code",
   "execution_count": 3,
   "metadata": {},
   "outputs": [
    {
     "name": "stdout",
     "output_type": "stream",
     "text": [
      "INFO:tensorflow:Using default config.\n",
      "WARNING:tensorflow:Using temporary folder as model directory: /var/folders/3f/nnm31y1x0sb7kjfh95g5vzlr0000gn/T/tmpc_ul52lj\n",
      "INFO:tensorflow:Using config: {'_tf_random_seed': 1, '_save_checkpoints_secs': 600, '_log_step_count_steps': 100, '_save_checkpoints_steps': None, '_save_summary_steps': 100, '_keep_checkpoint_max': 5, '_keep_checkpoint_every_n_hours': 10000, '_model_dir': '/var/folders/3f/nnm31y1x0sb7kjfh95g5vzlr0000gn/T/tmpc_ul52lj', '_session_config': None}\n"
     ]
    }
   ],
   "source": [
    "estimator = tf.estimator.Estimator(model_fn=model_fn)"
   ]
  },
  {
   "cell_type": "markdown",
   "metadata": {},
   "source": [
    "define our data sets"
   ]
  },
  {
   "cell_type": "code",
   "execution_count": 4,
   "metadata": {},
   "outputs": [],
   "source": [
    "x_train = np.array([1., 2., 3., 4.])\n",
    "y_train = np.array([0., -1., -2., -3.])\n",
    "x_eval = np.array([2., 5., 8., 1.])\n",
    "y_eval = np.array([-1.01, -4.1, -7, 0.])\n",
    "input_fn = tf.estimator.inputs.numpy_input_fn({\"x\": x_train}, y_train, batch_size=4, num_epochs=None, shuffle=True)\n",
    "train_input_fn = tf.estimator.inputs.numpy_input_fn({\"x\": x_train}, y_train, batch_size=4, num_epochs=1000, shuffle=False)\n",
    "eval_input_fn = tf.estimator.inputs.numpy_input_fn({\"x\": x_eval}, y_eval, batch_size=4, num_epochs=1000, shuffle=False)"
   ]
  },
  {
   "cell_type": "code",
   "execution_count": 5,
   "metadata": {},
   "outputs": [
    {
     "name": "stdout",
     "output_type": "stream",
     "text": [
      "INFO:tensorflow:Create CheckpointSaverHook.\n",
      "INFO:tensorflow:Saving checkpoints for 1 into /var/folders/3f/nnm31y1x0sb7kjfh95g5vzlr0000gn/T/tmpc_ul52lj/model.ckpt.\n",
      "INFO:tensorflow:loss = 10.6055881621, step = 1\n",
      "INFO:tensorflow:global_step/sec: 787.947\n",
      "INFO:tensorflow:loss = 0.0251867753805, step = 101 (0.131 sec)\n",
      "INFO:tensorflow:global_step/sec: 748.329\n",
      "INFO:tensorflow:loss = 0.00182821388791, step = 201 (0.133 sec)\n",
      "INFO:tensorflow:global_step/sec: 801.353\n",
      "INFO:tensorflow:loss = 0.000108716191024, step = 301 (0.126 sec)\n",
      "INFO:tensorflow:global_step/sec: 781.818\n",
      "INFO:tensorflow:loss = 3.05872907785e-05, step = 401 (0.126 sec)\n",
      "INFO:tensorflow:global_step/sec: 632.995\n",
      "INFO:tensorflow:loss = 3.65089693894e-06, step = 501 (0.157 sec)\n",
      "INFO:tensorflow:global_step/sec: 711.699\n",
      "INFO:tensorflow:loss = 1.74823074358e-07, step = 601 (0.141 sec)\n",
      "INFO:tensorflow:global_step/sec: 697.457\n",
      "INFO:tensorflow:loss = 4.85171618632e-09, step = 701 (0.144 sec)\n",
      "INFO:tensorflow:global_step/sec: 708.115\n",
      "INFO:tensorflow:loss = 1.91491918932e-09, step = 801 (0.141 sec)\n",
      "INFO:tensorflow:global_step/sec: 792.94\n",
      "INFO:tensorflow:loss = 1.1275445019e-10, step = 901 (0.126 sec)\n",
      "INFO:tensorflow:Saving checkpoints for 1000 into /var/folders/3f/nnm31y1x0sb7kjfh95g5vzlr0000gn/T/tmpc_ul52lj/model.ckpt.\n",
      "INFO:tensorflow:Loss for final step: 1.07385175078e-11.\n",
      "INFO:tensorflow:Starting evaluation at 2017-10-01-14:31:13\n",
      "INFO:tensorflow:Restoring parameters from /var/folders/3f/nnm31y1x0sb7kjfh95g5vzlr0000gn/T/tmpc_ul52lj/model.ckpt-1000\n",
      "INFO:tensorflow:Finished evaluation at 2017-10-01-14:31:14\n",
      "INFO:tensorflow:Saving dict for global step 1000: global_step = 1000, loss = 1.22327e-11\n",
      "INFO:tensorflow:Starting evaluation at 2017-10-01-14:31:15\n",
      "INFO:tensorflow:Restoring parameters from /var/folders/3f/nnm31y1x0sb7kjfh95g5vzlr0000gn/T/tmpc_ul52lj/model.ckpt-1000\n",
      "INFO:tensorflow:Finished evaluation at 2017-10-01-14:31:16\n",
      "INFO:tensorflow:Saving dict for global step 1000: global_step = 1000, loss = 0.0101004\n",
      "train metrics: {'loss': 1.2232678e-11, 'global_step': 1000}\n",
      "eval metrics: {'loss': 0.010100437, 'global_step': 1000}\n"
     ]
    }
   ],
   "source": [
    "estimator.train(input_fn=input_fn, steps=1000)\n",
    "train_metrics = estimator.evaluate(input_fn=train_input_fn)\n",
    "eval_metrics = estimator.evaluate(input_fn=eval_input_fn)\n",
    "print(\"train metrics: %r\"% train_metrics)\n",
    "print(\"eval metrics: %r\"% eval_metrics)"
   ]
  },
  {
   "cell_type": "code",
   "execution_count": null,
   "metadata": {},
   "outputs": [],
   "source": []
  }
 ],
 "metadata": {
  "kernelspec": {
   "display_name": "Python 3",
   "language": "python",
   "name": "python3"
  },
  "language_info": {
   "codemirror_mode": {
    "name": "ipython",
    "version": 3
   },
   "file_extension": ".py",
   "mimetype": "text/x-python",
   "name": "python",
   "nbconvert_exporter": "python",
   "pygments_lexer": "ipython3",
   "version": "3.5.2"
  }
 },
 "nbformat": 4,
 "nbformat_minor": 2
}
