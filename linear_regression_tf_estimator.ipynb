{
 "cells": [
  {
   "cell_type": "code",
   "execution_count": 1,
   "metadata": {},
   "outputs": [],
   "source": [
    "import tensorflow as tf\n",
    "import numpy as np"
   ]
  },
  {
   "cell_type": "markdown",
   "metadata": {},
   "source": [
    "Declare list of features. We only have one numerical feature.\n",
    "There are many other types of columns that are more complicated and useful."
   ]
  },
  {
   "cell_type": "code",
   "execution_count": 2,
   "metadata": {},
   "outputs": [],
   "source": [
    "feature_columns = [tf.feature_column.numeric_column(\"x\", shape=[1])]"
   ]
  },
  {
   "cell_type": "markdown",
   "metadata": {},
   "source": [
    "An estimator is the front end to invoke training (fitting) and evaluation(inference). \n",
    "There are many predefined types like linear regression, linear classification, and many neural network classifiers and regressors.\n",
    "The following code provides an estimator that does linear regression."
   ]
  },
  {
   "cell_type": "code",
   "execution_count": 3,
   "metadata": {},
   "outputs": [
    {
     "name": "stdout",
     "output_type": "stream",
     "text": [
      "INFO:tensorflow:Using default config.\n",
      "WARNING:tensorflow:Using temporary folder as model directory: /var/folders/3f/nnm31y1x0sb7kjfh95g5vzlr0000gn/T/tmpwvcmd9vn\n",
      "INFO:tensorflow:Using config: {'_keep_checkpoint_max': 5, '_session_config': None, '_model_dir': '/var/folders/3f/nnm31y1x0sb7kjfh95g5vzlr0000gn/T/tmpwvcmd9vn', '_tf_random_seed': 1, '_save_checkpoints_secs': 600, '_keep_checkpoint_every_n_hours': 10000, '_save_summary_steps': 100, '_log_step_count_steps': 100, '_save_checkpoints_steps': None}\n"
     ]
    }
   ],
   "source": [
    "estimator = tf.estimator.LinearRegressor(feature_columns=feature_columns)"
   ]
  },
  {
   "cell_type": "markdown",
   "metadata": {},
   "source": [
    "TensorFlow provides many helper methods to read and set up data sets.\n",
    "Here we use two data sets: one for training and one for evaluation\n",
    "We have to tell the function how many batches of data (num_epochs) we want and how big each batch should be."
   ]
  },
  {
   "cell_type": "code",
   "execution_count": 5,
   "metadata": {},
   "outputs": [],
   "source": [
    "x_train = np.array([1., 2., 3., 4.])\n",
    "y_train = np.array([0, -1., -2., -3.])\n",
    "x_eval = np.array([2., 5., 8., 1.])\n",
    "y_eval = np.array([-1.01, -4.1, -7, 0.])\n",
    "input_fn = tf.estimator.inputs.numpy_input_fn({\"x\":x_train}, y_train, batch_size=4, num_epochs=None, shuffle=True)\n",
    "train_input_fn = tf.estimator.inputs.numpy_input_fn({\"x\":x_train}, y_train, batch_size=4, num_epochs=1000, shuffle=False)\n",
    "eval_input_fn = tf.estimator.inputs.numpy_input_fn({\"x\":x_eval}, y_eval, batch_size=4, num_epochs=1000, shuffle=False)"
   ]
  },
  {
   "cell_type": "markdown",
   "metadata": {},
   "source": [
    "We can invoke 1000 training steps by invoking the method and passing the training data set."
   ]
  },
  {
   "cell_type": "code",
   "execution_count": 6,
   "metadata": {},
   "outputs": [
    {
     "name": "stdout",
     "output_type": "stream",
     "text": [
      "INFO:tensorflow:Create CheckpointSaverHook.\n",
      "INFO:tensorflow:Saving checkpoints for 1 into /var/folders/3f/nnm31y1x0sb7kjfh95g5vzlr0000gn/T/tmpwvcmd9vn/model.ckpt.\n",
      "INFO:tensorflow:loss = 19.0, step = 1\n",
      "INFO:tensorflow:global_step/sec: 677.185\n",
      "INFO:tensorflow:loss = 0.196721, step = 101 (0.151 sec)\n",
      "INFO:tensorflow:global_step/sec: 682.637\n",
      "INFO:tensorflow:loss = 0.0392259, step = 201 (0.144 sec)\n",
      "INFO:tensorflow:global_step/sec: 685.584\n",
      "INFO:tensorflow:loss = 0.0189122, step = 301 (0.146 sec)\n",
      "INFO:tensorflow:global_step/sec: 690.952\n",
      "INFO:tensorflow:loss = 0.00325706, step = 401 (0.145 sec)\n",
      "INFO:tensorflow:global_step/sec: 637.966\n",
      "INFO:tensorflow:loss = 0.000250282, step = 501 (0.158 sec)\n",
      "INFO:tensorflow:global_step/sec: 603.621\n",
      "INFO:tensorflow:loss = 0.000207551, step = 601 (0.165 sec)\n",
      "INFO:tensorflow:global_step/sec: 625.433\n",
      "INFO:tensorflow:loss = 4.5263e-05, step = 701 (0.160 sec)\n",
      "INFO:tensorflow:global_step/sec: 703.706\n",
      "INFO:tensorflow:loss = 3.82324e-06, step = 801 (0.142 sec)\n",
      "INFO:tensorflow:global_step/sec: 487.191\n",
      "INFO:tensorflow:loss = 7.79845e-07, step = 901 (0.210 sec)\n",
      "INFO:tensorflow:Saving checkpoints for 1000 into /var/folders/3f/nnm31y1x0sb7kjfh95g5vzlr0000gn/T/tmpwvcmd9vn/model.ckpt.\n",
      "INFO:tensorflow:Loss for final step: 4.60343e-07.\n"
     ]
    },
    {
     "data": {
      "text/plain": [
       "<tensorflow.python.estimator.canned.linear.LinearRegressor at 0x10dbb0710>"
      ]
     },
     "execution_count": 6,
     "metadata": {},
     "output_type": "execute_result"
    }
   ],
   "source": [
    "estimator.train(input_fn=input_fn, steps=1000)"
   ]
  },
  {
   "cell_type": "markdown",
   "metadata": {},
   "source": [
    "Here we evaluate how well our model did."
   ]
  },
  {
   "cell_type": "code",
   "execution_count": 7,
   "metadata": {},
   "outputs": [
    {
     "name": "stdout",
     "output_type": "stream",
     "text": [
      "INFO:tensorflow:Starting evaluation at 2017-10-01-14:11:55\n",
      "INFO:tensorflow:Restoring parameters from /var/folders/3f/nnm31y1x0sb7kjfh95g5vzlr0000gn/T/tmpwvcmd9vn/model.ckpt-1000\n",
      "INFO:tensorflow:Finished evaluation at 2017-10-01-14:11:57\n",
      "INFO:tensorflow:Saving dict for global step 1000: average_loss = 8.31205e-08, global_step = 1000, loss = 3.32482e-07\n",
      "INFO:tensorflow:Starting evaluation at 2017-10-01-14:11:58\n",
      "INFO:tensorflow:Restoring parameters from /var/folders/3f/nnm31y1x0sb7kjfh95g5vzlr0000gn/T/tmpwvcmd9vn/model.ckpt-1000\n",
      "INFO:tensorflow:Finished evaluation at 2017-10-01-14:12:00\n",
      "INFO:tensorflow:Saving dict for global step 1000: average_loss = 0.00255371, global_step = 1000, loss = 0.0102148\n",
      "train metrics: {'average_loss': 8.312054e-08, 'loss': 3.3248216e-07, 'global_step': 1000}\n",
      "eval metrics: {'average_loss': 0.002553707, 'loss': 0.010214828, 'global_step': 1000}\n"
     ]
    }
   ],
   "source": [
    "train_metrics = estimator.evaluate(input_fn=train_input_fn)\n",
    "eval_metrics = estimator.evaluate(input_fn=eval_input_fn)\n",
    "print(\"train metrics: %r\"% train_metrics)\n",
    "print(\"eval metrics: %r\"% eval_metrics)"
   ]
  },
  {
   "cell_type": "code",
   "execution_count": null,
   "metadata": {},
   "outputs": [],
   "source": []
  }
 ],
 "metadata": {
  "kernelspec": {
   "display_name": "Python 3",
   "language": "python",
   "name": "python3"
  },
  "language_info": {
   "codemirror_mode": {
    "name": "ipython",
    "version": 3
   },
   "file_extension": ".py",
   "mimetype": "text/x-python",
   "name": "python",
   "nbconvert_exporter": "python",
   "pygments_lexer": "ipython3",
   "version": "3.5.2"
  }
 },
 "nbformat": 4,
 "nbformat_minor": 2
}
